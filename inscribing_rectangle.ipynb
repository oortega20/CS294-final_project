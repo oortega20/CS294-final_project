{
 "cells": [
  {
   "cell_type": "markdown",
   "metadata": {},
   "source": [
    "##### Implementation of Algorithm for finding largest inscribed rectangle in polygon"
   ]
  },
  {
   "cell_type": "code",
   "execution_count": 14,
   "metadata": {},
   "outputs": [],
   "source": [
    "import math\n",
    "import numpy as np\n",
    "import matplotlib.pyplot as plt"
   ]
  },
  {
   "cell_type": "markdown",
   "metadata": {},
   "source": [
    "##### Helper functionality: "
   ]
  },
  {
   "cell_type": "code",
   "execution_count": 333,
   "metadata": {},
   "outputs": [],
   "source": [
    "def counter_clockwise(vertices):\n",
    "    \"\"\"\n",
    "    given a set of vertices v_1, ... v_4 in R_2 as python lists:\n",
    "    returns the set of vertices ordered counter-clockwise.\n",
    "    \"\"\"\n",
    "    #First center the set of points:\n",
    "    mX, mY = 0,0\n",
    "    for x,y in vertices:\n",
    "        mX += (x / 4)\n",
    "        mY += (y / 4)\n",
    "    \n",
    "    for x,y in vertices:\n",
    "        x -= mX\n",
    "        y -= mY\n",
    "    \n",
    "    #Then compute their angles\n",
    "    for vertex in vertices:\n",
    "        x,y = vertex\n",
    "        angle = math.degrees(math.atan2(y,x))\n",
    "        angle = angle if angle >= 0 else -angle + 180\n",
    "        vertex.append(angle)\n",
    "    \n",
    "    #sort based off of the angles\n",
    "    vertices.sort(reverse=True, key=lambda tup: tup[2])\n",
    "    \n",
    "    #remove the angle measurement and decenter points\n",
    "    for val in vertices:\n",
    "        val.pop()\n",
    "        x,y = val\n",
    "        x += mX\n",
    "        y += mY\n",
    "        \n",
    "    return vertices\n",
    "\n",
    "def edges(vertices):\n",
    "    \"\"\"\n",
    "    given a set of four vertices v_1, ..., v_4\n",
    "    returns v_1,v_2 - v_2,v_3 - ... v_4,v_1\n",
    "    \"\"\"\n",
    "    edges = []\n",
    "    for i in range(4):\n",
    "        p1, p2 = vertices[i % 4], vertices[(i + 1) % 4]\n",
    "        edges.append([p1,p2])\n",
    "    return edges\n",
    "\n",
    "def interior_line(line, vertices):\n",
    "    for start, end in edges(SAR(vertices)):\n",
    "        l_start, l_end = line\n",
    "        if l_start == start or l_start == end or l_end == end or l_end == start:\n",
    "            return False\n",
    "    return True"
   ]
  },
  {
   "cell_type": "code",
   "execution_count": 450,
   "metadata": {},
   "outputs": [],
   "source": [
    "def line_intersection(line1, line2):\n",
    "    if disjoint_segments(line1, line2):\n",
    "        return\n",
    "    xdiff = (line1[0][0] - line1[1][0], line2[0][0] - line2[1][0])\n",
    "    ydiff = (line1[0][1] - line1[1][1], line2[0][1] - line2[1][1])\n",
    "    \n",
    "    def det(a, b):\n",
    "        return a[0] * b[1] - a[1] * b[0]\n",
    "\n",
    "    div = det(xdiff, ydiff)\n",
    "    if div == 0:\n",
    "        return \n",
    "\n",
    "    d = (det(*line1), det(*line2))\n",
    "    x = det(d, xdiff) / div\n",
    "    y = det(d, ydiff) / div\n",
    "    \n",
    "#     #verifying it doesn't intersect at end points\n",
    "#     if x == line1[0][0] or x == line1[1][0] or x == line2[0][0] or x == line2[1][0] or \\\n",
    "#        y == line1[0][1] or y == line1[1][1] or y == line2[0][1] or y == line2[1][1]:\n",
    "    return [x,y]\n",
    "    "
   ]
  },
  {
   "cell_type": "code",
   "execution_count": 451,
   "metadata": {},
   "outputs": [],
   "source": [
    "def disjoint_segments(line1, line2):\n",
    "    start_1, end_1, start_2, end_2 = line1[0], line1[1], line2[0], line2[1]\n",
    "     \n",
    "    x_1, x_2, x_3, x_4 = start_1[0], end_1[0], start_2[0], end_2[0]\n",
    "    y_1, y_2, y_3, y_4 = start_1[1], end_1[1], start_2[1], end_2[1]\n",
    "    \n",
    "    #check for x intersection\n",
    "    if (x_1 < x_3 and x_1 < x_4 and x_2 < x_3 and x_2 < x_4) or \\\n",
    "       (x_1 > x_3 and x_1 > x_4 and x_2 > x_3 and x_2 > x_4):\n",
    "        return True\n",
    "    \n",
    "    if (y_1 < y_3 and y_1 < x_4 and y_2 < y_3 and y_2 < y_4) or \\\n",
    "       (y_1 > y_3 and y_1 > x_4 and y_2 > y_3 and y_2 > y_4):\n",
    "        return True\n",
    "    return False\n",
    "    "
   ]
  },
  {
   "cell_type": "code",
   "execution_count": 452,
   "metadata": {},
   "outputs": [
    {
     "data": {
      "text/plain": [
       "True"
      ]
     },
     "execution_count": 452,
     "metadata": {},
     "output_type": "execute_result"
    }
   ],
   "source": [
    "#[0.0, 1.6666666666666667] [[0.4, 1.0], [1.0, 0.0]] [[0.0, -2.0], [0.0, 2.1]]\n",
    "line_intersection([[0.4, 1.0], [1.0, 0.0]], [[0.0, -2.0], [0.0, 2.1]])\n",
    "disjoint_segments([[0.4, 1.0], [1.0, 0.0]], [[0.0, -2.0], [0.0, 2.1]])"
   ]
  },
  {
   "cell_type": "code",
   "execution_count": 497,
   "metadata": {},
   "outputs": [],
   "source": [
    "points = [[1.0,0.0],[0.4,-1.0],[-3.5,5.1],[0.0,-2.0]]"
   ]
  },
  {
   "cell_type": "code",
   "execution_count": 498,
   "metadata": {},
   "outputs": [
    {
     "data": {
      "text/plain": [
       "[[[0.0, -2.0], [0.4, -1.0]],\n",
       " [[0.4, -1.0], [-3.5, 5.1]],\n",
       " [[-3.5, 5.1], [1.0, 0.0]],\n",
       " [[1.0, 0.0], [0.0, -2.0]]]"
      ]
     },
     "execution_count": 498,
     "metadata": {},
     "output_type": "execute_result"
    }
   ],
   "source": [
    "e = edges(counter_clockwise(points))\n",
    "e"
   ]
  },
  {
   "cell_type": "code",
   "execution_count": 499,
   "metadata": {},
   "outputs": [
    {
     "data": {
      "image/png": "[encoded data removed]",
      "text/plain": [
       "<Figure size 432x288 with 1 Axes>"
      ]
     },
     "metadata": {
      "needs_background": "light"
     },
     "output_type": "display_data"
    }
   ],
   "source": [
    "for edge in e:\n",
    "    x_1,x_2 = edge[0][0], edge[1][0]\n",
    "    y_1,y_2 = edge[0][1], edge[1][1]\n",
    "    plt.plot([x_1,x_2], [y_1,y_2])"
   ]
  },
  {
   "cell_type": "markdown",
   "metadata": {},
   "source": [
    "##### Find smallest containing rectangle (SAR) of polygon"
   ]
  },
  {
   "cell_type": "code",
   "execution_count": 485,
   "metadata": {},
   "outputs": [],
   "source": [
    "def SAR(vertices):\n",
    "    \"\"\"\n",
    "    args: vertices v_1,...,v_4\n",
    "    returns edges of rectangle containing the polygon given by the vertices\n",
    "    \"\"\"\n",
    "    max_x, max_y, min_x, min_y = float('-inf'), float('-inf'), float('inf'), float('inf')\n",
    "    for x,y in vertices:\n",
    "        max_x = max_x if max_x > x else x\n",
    "        max_y = max_y if max_y > y else y\n",
    "        min_x = min_x if min_x < x else x\n",
    "        min_y = min_y if min_y < y else y\n",
    "    \n",
    "    rectangle_vertices = [[min_x,min_y], [min_x,max_y], [max_x, max_y], [max_x, min_y]]\n",
    "    return rectangle_vertices"
   ]
  },
  {
   "cell_type": "code",
   "execution_count": 486,
   "metadata": {},
   "outputs": [],
   "source": [
    "rec = SAR(points)\n",
    "rec_edges = edges(rec)"
   ]
  },
  {
   "cell_type": "code",
   "execution_count": 487,
   "metadata": {},
   "outputs": [
    {
     "data": {
      "image/png": "[encoded data removed]",
      "text/plain": [
       "<Figure size 432x288 with 1 Axes>"
      ]
     },
     "metadata": {
      "needs_background": "light"
     },
     "output_type": "display_data"
    }
   ],
   "source": [
    "#verifying SAR functionality\n",
    "for edge in rec_edges:\n",
    "    x_1,x_2 = edge[0][0], edge[1][0]\n",
    "    y_1,y_2 = edge[0][1], edge[1][1]\n",
    "    plt.plot([x_1,x_2], [y_1,y_2])\n",
    "for edge in e:\n",
    "    x_1,x_2 = edge[0][0], edge[1][0]\n",
    "    y_1,y_2 = edge[0][1], edge[1][1]\n",
    "    plt.plot([x_1,x_2], [y_1,y_2])"
   ]
  },
  {
   "cell_type": "markdown",
   "metadata": {},
   "source": [
    "#### Drawing horizontal and vertical lines"
   ]
  },
  {
   "cell_type": "code",
   "execution_count": 488,
   "metadata": {},
   "outputs": [],
   "source": [
    "def vertical_lines(vertices):\n",
    "    SAR_vertices = SAR(vertices)\n",
    "    min_y, max_y = SAR_vertices[0][1], SAR_vertices[1][1]\n",
    "    v_lines = []\n",
    "    for x, _ in counter_clockwise(vertices):\n",
    "        start, end = [x, min_y], [x, max_y]\n",
    "        v_lines.append([start, end])\n",
    "    return v_lines"
   ]
  },
  {
   "cell_type": "code",
   "execution_count": 489,
   "metadata": {},
   "outputs": [],
   "source": [
    "def horizontal_lines(vertices):\n",
    "    SAR_vertices = SAR(vertices)\n",
    "    min_x, max_x = SAR_vertices[0][0], SAR_vertices[2][0]\n",
    "    h_lines = []\n",
    "    for _, y in counter_clockwise(vertices):\n",
    "        start, end = [min_x, y], [max_x, y]\n",
    "        h_lines.append([start,end])\n",
    "    return h_lines"
   ]
  },
  {
   "cell_type": "code",
   "execution_count": 490,
   "metadata": {},
   "outputs": [
    {
     "data": {
      "image/png": "[encoded data removed]",
      "text/plain": [
       "<Figure size 432x288 with 1 Axes>"
      ]
     },
     "metadata": {
      "needs_background": "light"
     },
     "output_type": "display_data"
    }
   ],
   "source": [
    "h_lines = horizontal_lines(points)\n",
    "v_lines = vertical_lines(points)\n",
    "for edge in h_lines:\n",
    "    x_1,x_2 = edge[0][0], edge[1][0]\n",
    "    y_1,y_2 = edge[0][1], edge[1][1]\n",
    "    plt.plot([x_1,x_2], [y_1,y_2])\n",
    "\n",
    "for edge in v_lines:\n",
    "    x_1,x_2 = edge[0][0], edge[1][0]\n",
    "    y_1,y_2 = edge[0][1], edge[1][1]\n",
    "    plt.plot([x_1,x_2], [y_1,y_2])\n",
    "\n",
    "for edge in edges(rec):\n",
    "    x_1,x_2 = edge[0][0], edge[1][0]\n",
    "    y_1,y_2 = edge[0][1], edge[1][1]\n",
    "    plt.plot([x_1,x_2], [y_1,y_2])\n",
    "\n",
    "for edge in e:\n",
    "    x_1,x_2 = edge[0][0], edge[1][0]\n",
    "    y_1,y_2 = edge[0][1], edge[1][1]\n",
    "    plt.plot([x_1,x_2], [y_1,y_2])"
   ]
  },
  {
   "cell_type": "code",
   "execution_count": 491,
   "metadata": {},
   "outputs": [],
   "source": [
    "def polygon_lines(vertices):\n",
    "    \"\"\"\n",
    "    \n",
    "    \"\"\"\n",
    "    \n",
    "    \n",
    "    h_lines, v_lines = horizontal_lines(vertices), vertical_lines(vertices)\n",
    "    SAR_vertices = SAR(vertices)\n",
    "    min_y, max_y = SAR_vertices[0][1], SAR_vertices[1][1]\n",
    "    min_x, max_x = SAR_vertices[0][0], SAR_vertices[2][0]\n",
    "    e = edges(counter_clockwise(points))\n",
    "    total_lines = []\n",
    "    pts = []\n",
    "    for edge_line in e:\n",
    "        for line in h_lines:\n",
    "            if interior_line(line, vertices):\n",
    "                pt = line_intersection(edge_line, line)\n",
    "                if pt is not None:\n",
    "                    x, _ = pt\n",
    "                    if x >= min_x and x <= max_x:\n",
    "                        v_line = [[x, min_y], [x, max_y]]\n",
    "                        total_lines.append(v_line)\n",
    "                        pts.append(pt)\n",
    "        \n",
    "        for line in v_lines:\n",
    "            if interior_line(line, vertices):\n",
    "                pt = line_intersection(edge_line, line)\n",
    "                if pt is not None:\n",
    "                    _,y = pt\n",
    "                    if y >= min_y and y <= max_y:\n",
    "                        h_line = [[min_x, y], [max_x, y]]\n",
    "                        total_lines.append(h_line)\n",
    "                        pts.append(pt)\n",
    "    return v_lines + h_lines + total_lines, pts"
   ]
  },
  {
   "cell_type": "code",
   "execution_count": 492,
   "metadata": {},
   "outputs": [],
   "source": [
    "p_lines, pts = polygon_lines(points)"
   ]
  },
  {
   "cell_type": "code",
   "execution_count": 493,
   "metadata": {},
   "outputs": [
    {
     "data": {
      "image/png": "[encoded data removed]",
      "text/plain": [
       "<Figure size 432x288 with 1 Axes>"
      ]
     },
     "metadata": {
      "needs_background": "light"
     },
     "output_type": "display_data"
    }
   ],
   "source": [
    "for edge in p_lines:\n",
    "    x_1,x_2 = edge[0][0], edge[1][0]\n",
    "    y_1,y_2 = edge[0][1], edge[1][1]\n",
    "    plt.plot([x_1,x_2], [y_1,y_2])\n",
    "\n",
    "for edge in e:\n",
    "    x_1,x_2 = edge[0][0], edge[1][0]\n",
    "    y_1,y_2 = edge[0][1], edge[1][1]\n",
    "    plt.plot([x_1,x_2], [y_1,y_2])\n",
    "\n",
    "# for x,y in pts:\n",
    "#     plt.scatter(x,y,color='b')"
   ]
  },
  {
   "cell_type": "markdown",
   "metadata": {},
   "source": [
    "#### Algorithm 1: Examining the type of edges in a polygon "
   ]
  },
  {
   "cell_type": "code",
   "execution_count": 494,
   "metadata": {},
   "outputs": [],
   "source": [
    "def edge_types(vertices):\n",
    "    \"\"\"\n",
    "    args: vertices v_1,...,v_4\n",
    "    returns a dictionary mapping edges to edge types based of vertices\n",
    "    \"\"\"\n",
    "    polygon_edges = edges(counter_clockwise(vertices))\n",
    "    \n",
    "    edge_types = dict()\n",
    "    for edge in polygon_edges:\n",
    "        x_start, x_end = edge[0][0], edge[1][0]\n",
    "        y_start, y_end = edge[0][1], edge[1][1]\n",
    "        e  = (tuple(edge[0]), tuple(edge[1]))\n",
    "        if (x_start < x_end and y_end > y_start):\n",
    "            edge_types[e] = 1\n",
    "        elif (x_start > x_end and y_end > y_start):\n",
    "            edge_types[e] = 2\n",
    "        elif (x_start > x_end and y_end < y_start):\n",
    "            edge_types[e] = 3\n",
    "        elif (x_start < x_end and y_end < y_start):\n",
    "            edge_types[e] = 4\n",
    "        elif (x_start == x_end and y_end > y_start):\n",
    "            edge_types[e] = 5\n",
    "        elif (x_start > x_end and y_end == y_start):\n",
    "            edge_types[e] = 6\n",
    "        elif (x_start == x_end and y_end < y_start):\n",
    "            edge_types[e] = 7\n",
    "        else:\n",
    "            if (x_start < x_end and y_end == y_start):\n",
    "                edge_types[e] = 8\n",
    "            else:\n",
    "                raise ValueError(\"Invalid set of vertices given\")\n",
    "    return edge_types\n",
    "    "
   ]
  },
  {
   "cell_type": "code",
   "execution_count": 495,
   "metadata": {},
   "outputs": [],
   "source": [
    "types = edge_types(points)"
   ]
  },
  {
   "cell_type": "code",
   "execution_count": 496,
   "metadata": {},
   "outputs": [
    {
     "name": "stdout",
     "output_type": "stream",
     "text": [
      "{((0.0, -2.0), (0.4, -1.0)): 1, ((0.4, -1.0), (-3.5, 2.1)): 2, ((-3.5, 2.1), (1.0, 0.0)): 4, ((1.0, 0.0), (0.0, -2.0)): 3}\n"
     ]
    }
   ],
   "source": [
    "print(types)"
   ]
  },
  {
   "cell_type": "markdown",
   "metadata": {},
   "source": [
    "#### Algorithm 2: Identifying the internal subareas"
   ]
  },
  {
   "cell_type": "code",
   "execution_count": null,
   "metadata": {},
   "outputs": [],
   "source": []
  }
 ],
 "metadata": {
  "kernelspec": {
   "display_name": "Python 3",
   "language": "python",
   "name": "python3"
  },
  "language_info": {
   "codemirror_mode": {
    "name": "ipython",
    "version": 3
   },
   "file_extension": ".py",
   "mimetype": "text/x-python",
   "name": "python",
   "nbconvert_exporter": "python",
   "pygments_lexer": "ipython3",
   "version": "3.7.6"
  }
 },
 "nbformat": 4,
 "nbformat_minor": 4
}
