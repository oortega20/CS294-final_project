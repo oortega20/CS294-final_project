{
 "cells": [
  {
   "cell_type": "markdown",
   "metadata": {},
   "source": [
    "##### Implementation of Algorithm for finding largest inscribed rectangle in polygon"
   ]
  },
  {
   "cell_type": "code",
   "execution_count": 70,
   "metadata": {},
   "outputs": [],
   "source": [
    "import math\n",
    "import numpy as np\n",
    "import matplotlib.pyplot as plt"
   ]
  },
  {
   "cell_type": "markdown",
   "metadata": {},
   "source": [
    "##### Helper functionality: "
   ]
  },
  {
   "cell_type": "code",
   "execution_count": 134,
   "metadata": {},
   "outputs": [],
   "source": [
    "def counter_clockwise(vertices):\n",
    "    \"\"\"\n",
    "    given a set of vertices v_1, ... v_4 in R_2 as python lists:\n",
    "    returns the set of vertices ordered counter-clockwise.\n",
    "    \"\"\"\n",
    "    #First center the set of points:\n",
    "    mX, mY = 0,0\n",
    "    for x,y in vertices:\n",
    "        mX += (x / 4)\n",
    "        mY += (y / 4)\n",
    "    \n",
    "    for x,y in vertices:\n",
    "        x -= mX\n",
    "        y -= mY\n",
    "    \n",
    "    #Then compute their angles\n",
    "    for vertex in vertices:\n",
    "        x,y = vertex\n",
    "        angle = math.degrees(math.atan2(y,x))\n",
    "        angle = angle if angle >= 0 else -angle + 180\n",
    "        vertex.append(angle)\n",
    "    \n",
    "    #sort based off of the angles\n",
    "    vertices.sort(reverse=True, key=lambda tup: tup[2])\n",
    "    \n",
    "    #remove the angle measurement and decenter points\n",
    "    for val in vertices:\n",
    "        val.pop()\n",
    "        x,y = val\n",
    "        x += mX\n",
    "        y += mY\n",
    "        \n",
    "    return vertices\n",
    "\n",
    "def edges(vertices):\n",
    "    \"\"\"\n",
    "    given a set of four vertices v_1, ..., v_4\n",
    "    returns v_1,v_2 - v_2,v_3 - ... v_4,v_1\n",
    "    \"\"\"\n",
    "    edges = []\n",
    "    for i in range(4):\n",
    "        p1, p2 = vertices[i % 4], vertices[(i + 1) % 4]\n",
    "        edges.append([p1,p2])\n",
    "    return edges"
   ]
  },
  {
   "cell_type": "code",
   "execution_count": 135,
   "metadata": {},
   "outputs": [],
   "source": [
    "points = [[1,0],[-11,2],[-1,3],[2,4]]"
   ]
  },
  {
   "cell_type": "code",
   "execution_count": 136,
   "metadata": {},
   "outputs": [
    {
     "data": {
      "text/plain": [
       "[[[-11, 2], [-1, 3]], [[-1, 3], [2, 4]], [[2, 4], [1, 0]], [[1, 0], [-11, 2]]]"
      ]
     },
     "execution_count": 136,
     "metadata": {},
     "output_type": "execute_result"
    }
   ],
   "source": [
    "e = edges(counter_clockwise(points))\n",
    "e"
   ]
  },
  {
   "cell_type": "code",
   "execution_count": 137,
   "metadata": {},
   "outputs": [
    {
     "data": {
      "image/png": "[encoded data removed]",
      "text/plain": [
       "<Figure size 432x288 with 1 Axes>"
      ]
     },
     "metadata": {
      "needs_background": "light"
     },
     "output_type": "display_data"
    }
   ],
   "source": [
    "for edge in e:\n",
    "    x_1,x_2 = edge[0][0], edge[1][0]\n",
    "    y_1,y_2 = edge[0][1], edge[1][1]\n",
    "    plt.plot([x_1,x_2], [y_1,y_2])"
   ]
  },
  {
   "cell_type": "markdown",
   "metadata": {},
   "source": [
    "##### Find smallest containing rectangle (SAR) of polygon"
   ]
  },
  {
   "cell_type": "code",
   "execution_count": 138,
   "metadata": {},
   "outputs": [],
   "source": [
    "def SAR(vertices):\n",
    "    \"\"\"\n",
    "    args: vertices v_1,...,v_4\n",
    "    returns edges of rectangle containing the polygon given by the vertices\n",
    "    \"\"\"\n",
    "    max_x, max_y, min_x, min_y = float('-inf'), float('-inf'), float('inf'), float('inf')\n",
    "    for x,y in vertices:\n",
    "        max_x = max_x if max_x > x else x\n",
    "        max_y = max_y if max_y > y else y\n",
    "        min_x = min_x if min_x < x else x\n",
    "        min_y = min_y if min_y < y else y\n",
    "    \n",
    "    rectangle_vertices = [[min_x,min_y], [min_x,max_y], [max_x, max_y], [max_x, min_y]]\n",
    "    return rectangle_vertices"
   ]
  },
  {
   "cell_type": "code",
   "execution_count": 139,
   "metadata": {},
   "outputs": [],
   "source": [
    "rec = SAR(points)"
   ]
  },
  {
   "cell_type": "code",
   "execution_count": 140,
   "metadata": {},
   "outputs": [
    {
     "data": {
      "image/png": "[encoded data removed]",
      "text/plain": [
       "<Figure size 432x288 with 1 Axes>"
      ]
     },
     "metadata": {
      "needs_background": "light"
     },
     "output_type": "display_data"
    }
   ],
   "source": [
    "for edge in edges(counter_clockwise(rec)):\n",
    "    x_1,x_2 = edge[0][0], edge[1][0]\n",
    "    y_1,y_2 = edge[0][1], edge[1][1]\n",
    "    plt.plot([x_1,x_2], [y_1,y_2])\n",
    "for edge in e:\n",
    "    x_1,x_2 = edge[0][0], edge[1][0]\n",
    "    y_1,y_2 = edge[0][1], edge[1][1]\n",
    "    plt.plot([x_1,x_2], [y_1,y_2])"
   ]
  },
  {
   "cell_type": "markdown",
   "metadata": {},
   "source": [
    "#### Algorithm 1: Examining the type of edges in a polygon "
   ]
  },
  {
   "cell_type": "code",
   "execution_count": 117,
   "metadata": {},
   "outputs": [],
   "source": [
    "def edge_types(vertices):\n",
    "    \"\"\"\n",
    "    args: vertices v_1,...,v_4\n",
    "    returns a dictionary mapping edges to edge types based of vertices\n",
    "    \"\"\"\n",
    "    polygon_edges = edges(counter_clockwise(vertices))\n",
    "    \n",
    "    edge_types = dict()\n",
    "    for edge in polygon_edges:\n",
    "        x_start, x_end = edge[0][0], edge[1][0]\n",
    "        y_start, y_end = edge[0][1], edge[1][1]\n",
    "        e  = (tuple(edge[0]), tuple(edge[1]))\n",
    "        if (x_start < x_end and y_end > y_start):\n",
    "            edge_types[e] = 1\n",
    "        elif (x_start > x_end and y_end > y_start):\n",
    "            edge_types[e] = 2\n",
    "        elif (x_start > x_end and y_end < y_start):\n",
    "            edge_types[e] = 3\n",
    "        elif (x_start < x_end and y_end < y_start):\n",
    "            edge_types[e] = 4\n",
    "        elif (x_start == x_end and y_end > y_start):\n",
    "            edge_types[e] = 5\n",
    "        elif (x_start > x_end and y_end == y_start):\n",
    "            edge_types[e] = 6\n",
    "        elif (x_start == x_end and y_end < y_start):\n",
    "            edge_types[e] = 7\n",
    "        else:\n",
    "            if (x_start < x_end and y_end == y_start):\n",
    "                edge_types[e] = 8\n",
    "            else:\n",
    "                raise ValueError(\"Invalid set of vertices given\")\n",
    "    return edge_types\n",
    "    "
   ]
  },
  {
   "cell_type": "code",
   "execution_count": 118,
   "metadata": {},
   "outputs": [],
   "source": [
    "types = edge_types(points)"
   ]
  },
  {
   "cell_type": "code",
   "execution_count": null,
   "metadata": {},
   "outputs": [],
   "source": []
  }
 ],
 "metadata": {
  "kernelspec": {
   "display_name": "Python 3",
   "language": "python",
   "name": "python3"
  },
  "language_info": {
   "codemirror_mode": {
    "name": "ipython",
    "version": 3
   },
   "file_extension": ".py",
   "mimetype": "text/x-python",
   "name": "python",
   "nbconvert_exporter": "python",
   "pygments_lexer": "ipython3",
   "version": "3.7.6"
  }
 },
 "nbformat": 4,
 "nbformat_minor": 4
}
