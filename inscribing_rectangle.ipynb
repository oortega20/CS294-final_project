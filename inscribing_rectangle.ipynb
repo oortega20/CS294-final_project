{
 "cells": [
  {
   "cell_type": "markdown",
   "metadata": {},
   "source": [
    "##### Implementation of Algorithm for finding largest inscribed rectangle in polygon"
   ]
  },
  {
   "cell_type": "code",
   "execution_count": 14,
   "metadata": {},
   "outputs": [],
   "source": [
    "import math\n",
    "import numpy as np\n",
    "import matplotlib.pyplot as plt"
   ]
  },
  {
   "cell_type": "markdown",
   "metadata": {},
   "source": [
    "##### Helper functionality: "
   ]
  },
  {
   "cell_type": "code",
   "execution_count": 176,
   "metadata": {},
   "outputs": [],
   "source": [
    "def counter_clockwise(vertices):\n",
    "    \"\"\"\n",
    "    given a set of vertices v_1, ... v_4 in R_2 as python lists:\n",
    "    returns the set of vertices ordered counter-clockwise.\n",
    "    \"\"\"\n",
    "    #First center the set of points:\n",
    "    mX, mY = 0,0\n",
    "    for x,y in vertices:\n",
    "        mX += (x / 4)\n",
    "        mY += (y / 4)\n",
    "    \n",
    "    for x,y in vertices:\n",
    "        x -= mX\n",
    "        y -= mY\n",
    "    \n",
    "    #Then compute their angles\n",
    "    for vertex in vertices:\n",
    "        x,y = vertex\n",
    "        angle = math.degrees(math.atan2(y,x))\n",
    "        angle = angle if angle >= 0 else -angle + 180\n",
    "        vertex.append(angle)\n",
    "    \n",
    "    #sort based off of the angles\n",
    "    vertices.sort(reverse=True, key=lambda tup: tup[2])\n",
    "    \n",
    "    #remove the angle measurement and decenter points\n",
    "    for val in vertices:\n",
    "        val.pop()\n",
    "        x,y = val\n",
    "        x += mX\n",
    "        y += mY\n",
    "        \n",
    "    return vertices\n",
    "\n",
    "def edges(vertices):\n",
    "    \"\"\"\n",
    "    given a set of four vertices v_1, ..., v_4\n",
    "    returns v_1,v_2 - v_2,v_3 - ... v_4,v_1\n",
    "    \"\"\"\n",
    "    edges = []\n",
    "    for i in range(4):\n",
    "        p1, p2 = vertices[i % 4], vertices[(i + 1) % 4]\n",
    "        edges.append([p1,p2])\n",
    "    return edges"
   ]
  },
  {
   "cell_type": "code",
   "execution_count": 177,
   "metadata": {},
   "outputs": [],
   "source": [
    "def line_intersection(line1, line2):\n",
    "    xdiff = (line1[0][0] - line1[1][0], line2[0][0] - line2[1][0])\n",
    "    ydiff = (line1[0][1] - line1[1][1], line2[0][1] - line2[1][1])\n",
    "    \n",
    "    def det(a, b):\n",
    "        return a[0] * b[1] - a[1] * b[0]\n",
    "\n",
    "    div = det(xdiff, ydiff)\n",
    "    if div == 0:\n",
    "        return \n",
    "\n",
    "    d = (det(*line1), det(*line2))\n",
    "    x = det(d, xdiff) / div\n",
    "    y = det(d, ydiff) / div\n",
    "    \n",
    "#     x_start_1, x_end_1 = line1[0][0], line1[1][0]\n",
    "#     x_start_2, x_end_2 = line2[0][0], line2[1][0]\n",
    "#     y_start_1, y_end_1 = line1[0][1], line1[1][1]\n",
    "#     y_start_2, y_end_2 = line2[0][1], line2[1][1]\n",
    "    \n",
    "#     if min(x_start_1, x_end_1) < x and max(x_start_1, x_end_1) > x \\\n",
    "#        and min(x_start_2, x_end_2) < x and max(x_start_2, x_end_2) > x \\\n",
    "#        and min(y_start_1, y_end_1) < y and max(y_start_1, y_end_1) > y \\\n",
    "#        and min(y_start_2, y_end_2) < y and max(y_start_2, y_end_2) > y:\n",
    "    return [x,y]"
   ]
  },
  {
   "cell_type": "code",
   "execution_count": 178,
   "metadata": {},
   "outputs": [
    {
     "data": {
      "text/plain": [
       "[1.5, 2.0]"
      ]
     },
     "execution_count": 178,
     "metadata": {},
     "output_type": "execute_result"
    }
   ],
   "source": [
    "line_intersection([[0,5], [2.5,0]],[[0,2],[5,2]])"
   ]
  },
  {
   "cell_type": "code",
   "execution_count": 233,
   "metadata": {},
   "outputs": [],
   "source": [
    "points = [[1.0,0.0],[0.0,1.0],[-1.0,0.0],[0.0,-2.0]]"
   ]
  },
  {
   "cell_type": "code",
   "execution_count": 234,
   "metadata": {},
   "outputs": [
    {
     "data": {
      "text/plain": [
       "[[[0.0, -2.0], [-1.0, 0.0]],\n",
       " [[-1.0, 0.0], [0.0, 1.0]],\n",
       " [[0.0, 1.0], [1.0, 0.0]],\n",
       " [[1.0, 0.0], [0.0, -2.0]]]"
      ]
     },
     "execution_count": 234,
     "metadata": {},
     "output_type": "execute_result"
    }
   ],
   "source": [
    "e = edges(counter_clockwise(points))\n",
    "e"
   ]
  },
  {
   "cell_type": "code",
   "execution_count": 235,
   "metadata": {},
   "outputs": [
    {
     "data": {
      "image/png": "[encoded data removed]",
      "text/plain": [
       "<Figure size 432x288 with 1 Axes>"
      ]
     },
     "metadata": {
      "needs_background": "light"
     },
     "output_type": "display_data"
    }
   ],
   "source": [
    "for edge in e:\n",
    "    x_1,x_2 = edge[0][0], edge[1][0]\n",
    "    y_1,y_2 = edge[0][1], edge[1][1]\n",
    "    plt.plot([x_1,x_2], [y_1,y_2])"
   ]
  },
  {
   "cell_type": "markdown",
   "metadata": {},
   "source": [
    "##### Find smallest containing rectangle (SAR) of polygon"
   ]
  },
  {
   "cell_type": "code",
   "execution_count": 236,
   "metadata": {},
   "outputs": [],
   "source": [
    "def SAR(vertices):\n",
    "    \"\"\"\n",
    "    args: vertices v_1,...,v_4\n",
    "    returns edges of rectangle containing the polygon given by the vertices\n",
    "    \"\"\"\n",
    "    max_x, max_y, min_x, min_y = float('-inf'), float('-inf'), float('inf'), float('inf')\n",
    "    for x,y in vertices:\n",
    "        max_x = max_x if max_x > x else x\n",
    "        max_y = max_y if max_y > y else y\n",
    "        min_x = min_x if min_x < x else x\n",
    "        min_y = min_y if min_y < y else y\n",
    "    \n",
    "    rectangle_vertices = [[min_x,min_y], [min_x,max_y], [max_x, max_y], [max_x, min_y]]\n",
    "    return rectangle_vertices"
   ]
  },
  {
   "cell_type": "code",
   "execution_count": 237,
   "metadata": {},
   "outputs": [],
   "source": [
    "rec = SAR(points)\n",
    "rec_edges = edges(rec)"
   ]
  },
  {
   "cell_type": "code",
   "execution_count": 238,
   "metadata": {},
   "outputs": [
    {
     "data": {
      "image/png": "[encoded data removed]",
      "text/plain": [
       "<Figure size 432x288 with 1 Axes>"
      ]
     },
     "metadata": {
      "needs_background": "light"
     },
     "output_type": "display_data"
    }
   ],
   "source": [
    "#verifying SAR functionality\n",
    "for edge in rec_edges:\n",
    "    x_1,x_2 = edge[0][0], edge[1][0]\n",
    "    y_1,y_2 = edge[0][1], edge[1][1]\n",
    "    plt.plot([x_1,x_2], [y_1,y_2])\n",
    "for edge in e:\n",
    "    x_1,x_2 = edge[0][0], edge[1][0]\n",
    "    y_1,y_2 = edge[0][1], edge[1][1]\n",
    "    plt.plot([x_1,x_2], [y_1,y_2])"
   ]
  },
  {
   "cell_type": "markdown",
   "metadata": {},
   "source": [
    "#### Drawing horizontal and vertical lines"
   ]
  },
  {
   "cell_type": "code",
   "execution_count": 239,
   "metadata": {},
   "outputs": [],
   "source": [
    "def vertical_lines(vertices):\n",
    "    SAR_vertices = SAR(vertices)\n",
    "    min_y, max_y = SAR_vertices[0][1], SAR_vertices[1][1]\n",
    "    v_lines = []\n",
    "    for x, _ in counter_clockwise(vertices):\n",
    "        start, end = [x, min_y], [x, max_y]\n",
    "        v_lines.append([start, end])\n",
    "    return v_lines"
   ]
  },
  {
   "cell_type": "code",
   "execution_count": 240,
   "metadata": {},
   "outputs": [],
   "source": [
    "def horizontal_lines(vertices):\n",
    "    SAR_vertices = SAR(vertices)\n",
    "    min_x, max_x = SAR_vertices[0][0], SAR_vertices[2][0]\n",
    "    h_lines = []\n",
    "    for _, y in counter_clockwise(vertices):\n",
    "        start, end = [min_x, y], [max_x, y]\n",
    "        h_lines.append([start,end])\n",
    "    return h_lines"
   ]
  },
  {
   "cell_type": "code",
   "execution_count": 241,
   "metadata": {},
   "outputs": [
    {
     "data": {
      "image/png": "[encoded data removed]",
      "text/plain": [
       "<Figure size 432x288 with 1 Axes>"
      ]
     },
     "metadata": {
      "needs_background": "light"
     },
     "output_type": "display_data"
    }
   ],
   "source": [
    "h_lines = horizontal_lines(points)\n",
    "v_lines = vertical_lines(points)\n",
    "for edge in h_lines:\n",
    "    x_1,x_2 = edge[0][0], edge[1][0]\n",
    "    y_1,y_2 = edge[0][1], edge[1][1]\n",
    "    plt.plot([x_1,x_2], [y_1,y_2])\n",
    "\n",
    "for edge in v_lines:\n",
    "    x_1,x_2 = edge[0][0], edge[1][0]\n",
    "    y_1,y_2 = edge[0][1], edge[1][1]\n",
    "    plt.plot([x_1,x_2], [y_1,y_2])\n",
    "\n",
    "for edge in edges(rec):\n",
    "    x_1,x_2 = edge[0][0], edge[1][0]\n",
    "    y_1,y_2 = edge[0][1], edge[1][1]\n",
    "    plt.plot([x_1,x_2], [y_1,y_2])\n",
    "\n",
    "for edge in e:\n",
    "    x_1,x_2 = edge[0][0], edge[1][0]\n",
    "    y_1,y_2 = edge[0][1], edge[1][1]\n",
    "    plt.plot([x_1,x_2], [y_1,y_2])"
   ]
  },
  {
   "cell_type": "code",
   "execution_count": 242,
   "metadata": {},
   "outputs": [],
   "source": [
    "def polygon_lines(vertices):\n",
    "    \"\"\"\n",
    "    \n",
    "    \"\"\"\n",
    "    h_lines, v_lines = horizontal_lines(vertices), vertical_lines(vertices)\n",
    "    SAR_vertices = SAR(vertices)\n",
    "    min_y, max_y = SAR_vertices[0][1], SAR_vertices[1][1]\n",
    "    min_x, max_x = SAR_vertices[0][0], SAR_vertices[2][0]\n",
    "    e = edges(counter_clockwise(points))\n",
    "    total_lines = []\n",
    "    pts = []\n",
    "    for edge_line in e:\n",
    "        for line in h_lines:\n",
    "            pt = line_intersection(edge_line, line)\n",
    "            if pt is not None:\n",
    "                x, y = pt\n",
    "                if x >= min_x and x <= max_x:\n",
    "                    print(pt, edge_line, line)\n",
    "                    h_line = [[min_x, y], [max_x, y]]\n",
    "                    v_line = [[x, min_y], [x, max_y]]\n",
    "                    total_lines.append(h_line)\n",
    "                    total_lines.append(v_line)\n",
    "                    pts.append(pt)\n",
    "        \n",
    "        for line in v_lines:\n",
    "            pt = line_intersection(edge_line, line)\n",
    "            if pt is not None:\n",
    "                x,y = pt\n",
    "                if y >= min_y and y <= max_y:\n",
    "                    print(pt, edge_line, line)\n",
    "                    h_line = [[min_x, y], [max_x, y]]\n",
    "                    v_line = [[x, min_y], [x, max_y]]\n",
    "                    total_lines.append(h_line)\n",
    "                    total_lines.append(v_line)\n",
    "                    pts.append(pt)\n",
    "    return h_lines + v_lines + total_lines, pts"
   ]
  },
  {
   "cell_type": "code",
   "execution_count": 243,
   "metadata": {},
   "outputs": [
    {
     "name": "stdout",
     "output_type": "stream",
     "text": [
      "[-0.0, -2.0] [[0.0, -2.0], [-1.0, 0.0]] [[-1.0, -2.0], [1.0, -2.0]]\n",
      "[-1.0, 0.0] [[0.0, -2.0], [-1.0, 0.0]] [[-1.0, 0.0], [1.0, 0.0]]\n",
      "[-1.0, 0.0] [[0.0, -2.0], [-1.0, 0.0]] [[-1.0, 0.0], [1.0, 0.0]]\n",
      "[0.0, -2.0] [[0.0, -2.0], [-1.0, 0.0]] [[0.0, -2.0], [0.0, 1.0]]\n",
      "[-1.0, -0.0] [[0.0, -2.0], [-1.0, 0.0]] [[-1.0, -2.0], [-1.0, 1.0]]\n",
      "[0.0, -2.0] [[0.0, -2.0], [-1.0, 0.0]] [[0.0, -2.0], [0.0, 1.0]]\n",
      "[-1.0, 0.0] [[-1.0, 0.0], [0.0, 1.0]] [[-1.0, 0.0], [1.0, 0.0]]\n",
      "[-0.0, 1.0] [[-1.0, 0.0], [0.0, 1.0]] [[-1.0, 1.0], [1.0, 1.0]]\n",
      "[-1.0, 0.0] [[-1.0, 0.0], [0.0, 1.0]] [[-1.0, 0.0], [1.0, 0.0]]\n",
      "[0.0, 1.0] [[-1.0, 0.0], [0.0, 1.0]] [[0.0, -2.0], [0.0, 1.0]]\n",
      "[-1.0, 0.0] [[-1.0, 0.0], [0.0, 1.0]] [[-1.0, -2.0], [-1.0, 1.0]]\n",
      "[0.0, 1.0] [[-1.0, 0.0], [0.0, 1.0]] [[0.0, -2.0], [0.0, 1.0]]\n",
      "[1.0, 0.0] [[0.0, 1.0], [1.0, 0.0]] [[-1.0, 0.0], [1.0, 0.0]]\n",
      "[0.0, 1.0] [[0.0, 1.0], [1.0, 0.0]] [[-1.0, 1.0], [1.0, 1.0]]\n",
      "[1.0, 0.0] [[0.0, 1.0], [1.0, 0.0]] [[-1.0, 0.0], [1.0, 0.0]]\n",
      "[0.0, 1.0] [[0.0, 1.0], [1.0, 0.0]] [[0.0, -2.0], [0.0, 1.0]]\n",
      "[0.0, 1.0] [[0.0, 1.0], [1.0, 0.0]] [[0.0, -2.0], [0.0, 1.0]]\n",
      "[1.0, 0.0] [[0.0, 1.0], [1.0, 0.0]] [[1.0, -2.0], [1.0, 1.0]]\n",
      "[0.0, -2.0] [[1.0, 0.0], [0.0, -2.0]] [[-1.0, -2.0], [1.0, -2.0]]\n",
      "[1.0, 0.0] [[1.0, 0.0], [0.0, -2.0]] [[-1.0, 0.0], [1.0, 0.0]]\n",
      "[1.0, 0.0] [[1.0, 0.0], [0.0, -2.0]] [[-1.0, 0.0], [1.0, 0.0]]\n",
      "[0.0, -2.0] [[1.0, 0.0], [0.0, -2.0]] [[0.0, -2.0], [0.0, 1.0]]\n",
      "[0.0, -2.0] [[1.0, 0.0], [0.0, -2.0]] [[0.0, -2.0], [0.0, 1.0]]\n",
      "[1.0, -0.0] [[1.0, 0.0], [0.0, -2.0]] [[1.0, -2.0], [1.0, 1.0]]\n"
     ]
    }
   ],
   "source": [
    "p_lines, pts = polygon_lines(points)"
   ]
  },
  {
   "cell_type": "code",
   "execution_count": 245,
   "metadata": {},
   "outputs": [
    {
     "data": {
      "image/png": "[encoded data removed]",
      "text/plain": [
       "<Figure size 432x288 with 1 Axes>"
      ]
     },
     "metadata": {
      "needs_background": "light"
     },
     "output_type": "display_data"
    }
   ],
   "source": [
    "for edge in p_lines:\n",
    "    x_1,x_2 = edge[0][0], edge[1][0]\n",
    "    y_1,y_2 = edge[0][1], edge[1][1]\n",
    "    plt.plot([x_1,x_2], [y_1,y_2])\n",
    "for edge in rec_edges:\n",
    "    x_1,x_2 = edge[0][0], edge[1][0]\n",
    "    y_1,y_2 = edge[0][1], edge[1][1]\n",
    "    plt.plot([x_1,x_2], [y_1,y_2])\n",
    "for edge in e:\n",
    "    x_1,x_2 = edge[0][0], edge[1][0]\n",
    "    y_1,y_2 = edge[0][1], edge[1][1]\n",
    "    plt.plot([x_1,x_2], [y_1,y_2])\n",
    "\n",
    "for x,y in pts:\n",
    "    plt.scatter(x,y)"
   ]
  },
  {
   "cell_type": "markdown",
   "metadata": {},
   "source": [
    "#### Algorithm 1: Examining the type of edges in a polygon "
   ]
  },
  {
   "cell_type": "code",
   "execution_count": null,
   "metadata": {},
   "outputs": [],
   "source": [
    "def edge_types(vertices):\n",
    "    \"\"\"\n",
    "    args: vertices v_1,...,v_4\n",
    "    returns a dictionary mapping edges to edge types based of vertices\n",
    "    \"\"\"\n",
    "    polygon_edges = edges(counter_clockwise(vertices))\n",
    "    \n",
    "    edge_types = dict()\n",
    "    for edge in polygon_edges:\n",
    "        x_start, x_end = edge[0][0], edge[1][0]\n",
    "        y_start, y_end = edge[0][1], edge[1][1]\n",
    "        e  = (tuple(edge[0]), tuple(edge[1]))\n",
    "        if (x_start < x_end and y_end > y_start):\n",
    "            edge_types[e] = 1\n",
    "        elif (x_start > x_end and y_end > y_start):\n",
    "            edge_types[e] = 2\n",
    "        elif (x_start > x_end and y_end < y_start):\n",
    "            edge_types[e] = 3\n",
    "        elif (x_start < x_end and y_end < y_start):\n",
    "            edge_types[e] = 4\n",
    "        elif (x_start == x_end and y_end > y_start):\n",
    "            edge_types[e] = 5\n",
    "        elif (x_start > x_end and y_end == y_start):\n",
    "            edge_types[e] = 6\n",
    "        elif (x_start == x_end and y_end < y_start):\n",
    "            edge_types[e] = 7\n",
    "        else:\n",
    "            if (x_start < x_end and y_end == y_start):\n",
    "                edge_types[e] = 8\n",
    "            else:\n",
    "                raise ValueError(\"Invalid set of vertices given\")\n",
    "    return edge_types\n",
    "    "
   ]
  },
  {
   "cell_type": "code",
   "execution_count": null,
   "metadata": {},
   "outputs": [],
   "source": [
    "types = edge_types(points)"
   ]
  }
 ],
 "metadata": {
  "kernelspec": {
   "display_name": "Python 3",
   "language": "python",
   "name": "python3"
  },
  "language_info": {
   "codemirror_mode": {
    "name": "ipython",
    "version": 3
   },
   "file_extension": ".py",
   "mimetype": "text/x-python",
   "name": "python",
   "nbconvert_exporter": "python",
   "pygments_lexer": "ipython3",
   "version": "3.7.6"
  }
 },
 "nbformat": 4,
 "nbformat_minor": 4
}
