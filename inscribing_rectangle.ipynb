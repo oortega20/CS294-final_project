{
 "cells": [
  {
   "cell_type": "markdown",
   "metadata": {},
   "source": [
    "##### Implementation of Algorithm for finding largest inscribed rectangle in polygon"
   ]
  },
  {
   "cell_type": "code",
   "execution_count": 70,
   "metadata": {},
   "outputs": [],
   "source": [
    "import math\n",
    "import numpy as np\n",
    "import matplotlib.pyplot as plt"
   ]
  },
  {
   "cell_type": "markdown",
   "metadata": {},
   "source": [
    "##### Helper functionality: "
   ]
  },
  {
   "cell_type": "code",
   "execution_count": 105,
   "metadata": {},
   "outputs": [],
   "source": [
    "def counter_clockwise(vertices):\n",
    "    \"\"\"\n",
    "    given a set of vertices v_1, ... v_4 in R_2 as python lists:\n",
    "    returns the set of vertices ordered counter-clockwise.\n",
    "    \"\"\"\n",
    "    #First center the set of points:\n",
    "    mX, mY = 0,0\n",
    "    for x,y in vertices:\n",
    "        mX += (x / 4)\n",
    "        mY += (y / 4)\n",
    "    \n",
    "    for x,y in vertices:\n",
    "        x -= mX\n",
    "        y -= mY\n",
    "    \n",
    "    #Then compute their angles\n",
    "    for vertex in vertices:\n",
    "        x,y = vertex\n",
    "        angle = math.degrees(math.atan2(y,x))\n",
    "        angle = angle if angle >= 0 else -angle + 180\n",
    "        vertex.append(angle)\n",
    "    \n",
    "    #sort based off of the angles\n",
    "    vertices.sort(reverse=True, key=lambda tup: tup[2])\n",
    "    \n",
    "    #remove the angle measurement and decenter points\n",
    "    for val in vertices:\n",
    "        val.pop()\n",
    "        x,y = val\n",
    "        x += mX\n",
    "        y += mY\n",
    "        \n",
    "    return vertices\n",
    "\n",
    "def edges(vertices):\n",
    "    \"\"\"\n",
    "    given a set of four vertices v_1, ..., v_4\n",
    "    returns v_1,v_2 - v_2,v_3 - ... v_4,v_1\n",
    "    \"\"\"\n",
    "    edges = []\n",
    "    for i in range(4):\n",
    "        p1, p2 = vertices[i % 4], vertices[(i + 1) % 4]\n",
    "        edges.append([p1,p2])\n",
    "    return edges"
   ]
  },
  {
   "cell_type": "code",
   "execution_count": 106,
   "metadata": {},
   "outputs": [],
   "source": [
    "points = [[1,0],[1,2],[0,3],[0,4]]"
   ]
  },
  {
   "cell_type": "code",
   "execution_count": 107,
   "metadata": {},
   "outputs": [
    {
     "data": {
      "text/plain": [
       "[[[0, 3], [0, 4]], [[0, 4], [1, 2]], [[1, 2], [1, 0]], [[1, 0], [0, 3]]]"
      ]
     },
     "execution_count": 107,
     "metadata": {},
     "output_type": "execute_result"
    }
   ],
   "source": [
    "e = edges(counter_clockwise(points))\n",
    "e"
   ]
  },
  {
   "cell_type": "code",
   "execution_count": 108,
   "metadata": {},
   "outputs": [
    {
     "data": {
      "image/png": "[encoded data removed]",
      "text/plain": [
       "<Figure size 432x288 with 1 Axes>"
      ]
     },
     "metadata": {
      "needs_background": "light"
     },
     "output_type": "display_data"
    }
   ],
   "source": [
    "for edge in e:\n",
    "    x_1,x_2 = edge[0][0], edge[1][0]\n",
    "    y_1,y_2 = edge[0][1], edge[1][1]\n",
    "    plt.plot([x_1,x_2], [y_1,y_2])"
   ]
  },
  {
   "cell_type": "markdown",
   "metadata": {},
   "source": [
    "#### Algorithm 1: Examining the type of edges in a polygon "
   ]
  },
  {
   "cell_type": "code",
   "execution_count": 117,
   "metadata": {},
   "outputs": [],
   "source": [
    "def edge_types(vertices):\n",
    "    \"\"\"\n",
    "    args: vertices v_1,...,v_4\n",
    "    returns a dictionary mapping edges to edge types based of vertices\n",
    "    \"\"\"\n",
    "    polygon_edges = edges(counter_clockwise(vertices))\n",
    "    \n",
    "    edge_types = dict()\n",
    "    for edge in polygon_edges:\n",
    "        x_start, x_end = edge[0][0], edge[1][0]\n",
    "        y_start, y_end = edge[0][1], edge[1][1]\n",
    "        e  = (tuple(edge[0]), tuple(edge[1]))\n",
    "        if (x_start < x_end and y_end > y_start):\n",
    "            edge_types[e] = 1\n",
    "        elif (x_start > x_end and y_end > y_start):\n",
    "            edge_types[e] = 2\n",
    "        elif (x_start > x_end and y_end < y_start):\n",
    "            edge_types[e] = 3\n",
    "        elif (x_start < x_end and y_end < y_start):\n",
    "            edge_types[e] = 4\n",
    "        elif (x_start == x_end and y_end > y_start):\n",
    "            edge_types[e] = 5\n",
    "        elif (x_start > x_end and y_end == y_start):\n",
    "            edge_types[e] = 6\n",
    "        elif (x_start == x_end and y_end < y_start):\n",
    "            edge_types[e] = 7\n",
    "        else:\n",
    "            if (x_start < x_end and y_end == y_start):\n",
    "                edge_types[e] = 8\n",
    "            else:\n",
    "                raise ValueError(\"Invalid set of vertices given\")\n",
    "    return edge_types\n",
    "    "
   ]
  },
  {
   "cell_type": "code",
   "execution_count": 118,
   "metadata": {},
   "outputs": [],
   "source": [
    "types = edge_types(points)"
   ]
  },
  {
   "cell_type": "code",
   "execution_count": 119,
   "metadata": {},
   "outputs": [
    {
     "data": {
      "text/plain": [
       "{((0, 3), (0, 4)): 5,\n",
       " ((0, 4), (1, 2)): 4,\n",
       " ((1, 2), (1, 0)): 7,\n",
       " ((1, 0), (0, 3)): 2}"
      ]
     },
     "execution_count": 119,
     "metadata": {},
     "output_type": "execute_result"
    }
   ],
   "source": [
    "types"
   ]
  },
  {
   "cell_type": "code",
   "execution_count": null,
   "metadata": {},
   "outputs": [],
   "source": []
  }
 ],
 "metadata": {
  "kernelspec": {
   "display_name": "Python 3",
   "language": "python",
   "name": "python3"
  },
  "language_info": {
   "codemirror_mode": {
    "name": "ipython",
    "version": 3
   },
   "file_extension": ".py",
   "mimetype": "text/x-python",
   "name": "python",
   "nbconvert_exporter": "python",
   "pygments_lexer": "ipython3",
   "version": "3.7.6"
  }
 },
 "nbformat": 4,
 "nbformat_minor": 4
}
